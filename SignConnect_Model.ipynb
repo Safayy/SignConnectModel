{
  "nbformat": 4,
  "nbformat_minor": 0,
  "metadata": {
    "colab": {
      "provenance": [],
      "toc_visible": true
    },
    "kernelspec": {
      "name": "python3",
      "display_name": "Python 3"
    }
  },
  "cells": [
    {
      "cell_type": "markdown",
      "metadata": {
        "id": "k25m_dVm6-bP"
      },
      "source": [
        "# Sign Connect Model | Real Time Sign Language Translation App\n",
        "The format used for annotations is Pascal VOC XML.\n",
        "To run the notebook, data should be downloaded from [github.com/Safayy/SignConnectMobile/data](https://). All files should be placed in your Google Drive, under a directory named SignConnect."
      ]
    },
    {
      "cell_type": "markdown",
      "source": [
        "### Setup TensorFlow Object Detection"
      ],
      "metadata": {
        "id": "Feokgl1IC-2N"
      }
    },
    {
      "cell_type": "code",
      "source": [
        "!pip install tensorflow==2.15.0\n",
        "\n",
        "!git clone https://github.com/tensorflow/models.git\n",
        "%cd models/research\n",
        "!sed -i 's/tf-models-official>=2.5.1/tf-models-official==2.15.0/g' object_detection/packages/tf2/setup.py #Fix setup.py bug to allow install of different TensorFlow version\n",
        "!protoc object_detection/protos/*.proto --python_out=.\n",
        "!cp object_detection/packages/tf2/setup.py .\n",
        "!python -m pip install ."
      ],
      "metadata": {
        "id": "VUn9QprO5e7X"
      },
      "execution_count": null,
      "outputs": []
    },
    {
      "cell_type": "markdown",
      "source": [
        "### Import Libraries"
      ],
      "metadata": {
        "id": "5gmdsUTyDVSU"
      }
    },
    {
      "cell_type": "code",
      "metadata": {
        "id": "R1Fl0K9TVJ50"
      },
      "source": [
        "import os\n",
        "import glob\n",
        "import xml.etree.ElementTree as ET\n",
        "import pandas as pd\n",
        "import tensorflow as tf"
      ],
      "execution_count": 24,
      "outputs": []
    },
    {
      "cell_type": "markdown",
      "source": [
        "### Get Files from Drive"
      ],
      "metadata": {
        "id": "ZbDAJ0x7_Yms"
      }
    },
    {
      "cell_type": "code",
      "metadata": {
        "id": "RhZoiRBoqnju",
        "colab": {
          "base_uri": "https://localhost:8080/"
        },
        "outputId": "fd59ead0-ab73-486e-f76f-a85ed95e683a"
      },
      "source": [
        "from google.colab import drive\n",
        "drive.mount('/content/gdrive')\n",
        "!ln -s /content/gdrive/My\\ Drive/ /mydrive"
      ],
      "execution_count": 25,
      "outputs": [
        {
          "output_type": "stream",
          "name": "stdout",
          "text": [
            "Drive already mounted at /content/gdrive; to attempt to forcibly remount, call drive.mount(\"/content/gdrive\", force_remount=True).\n",
            "ln: failed to create symbolic link '/mydrive/My Drive': File exists\n"
          ]
        }
      ]
    },
    {
      "cell_type": "code",
      "source": [
        "%cd /content\n",
        "!unzip /mydrive/SignConnectModel/images.zip -d .\n",
        "!unzip /mydrive/SignConnectModel/annotations.zip -d ."
      ],
      "metadata": {
        "id": "zImXndtJ_v9J"
      },
      "execution_count": null,
      "outputs": []
    },
    {
      "cell_type": "markdown",
      "metadata": {
        "id": "fYUW7UZejKFb"
      },
      "source": [
        "### Split Training and Testing Dataset\n"
      ]
    },
    {
      "cell_type": "code",
      "metadata": {
        "id": "AoyMt_vssl1j",
        "colab": {
          "base_uri": "https://localhost:8080/"
        },
        "outputId": "98ca914f-9347-4733-db3f-cc0fa0671490"
      },
      "source": [
        "!mkdir test_labels train_labels\n",
        "!ls annotations/* | sort -R | head -40 | xargs -I{} mv {} test_labels/\n",
        "!ls annotations/* | xargs -I{} mv {} train_labels/"
      ],
      "execution_count": 29,
      "outputs": [
        {
          "output_type": "stream",
          "name": "stdout",
          "text": [
            "mkdir: cannot create directory ‘test_labels’: File exists\n",
            "mkdir: cannot create directory ‘train_labels’: File exists\n"
          ]
        }
      ]
    },
    {
      "cell_type": "markdown",
      "source": [
        "### Create Label Files"
      ],
      "metadata": {
        "id": "PgIf1TvcEACl"
      }
    },
    {
      "cell_type": "code",
      "source": [
        "labels = [\n",
        "    {'name':'letter_A', 'id':1},\n",
        "    {'name':'letter_B', 'id':2},\n",
        "    {'name':'letter_C', 'id':3},\n",
        "    {'name':'letter_D', 'id':4},\n",
        "    {'name':'letter_E', 'id':5},\n",
        "    {'name':'letter_F', 'id':6},\n",
        "    {'name':'letter_G', 'id':7},\n",
        "    {'name':'letter_H', 'id':8},\n",
        "    {'name':'letter_I', 'id':9},\n",
        "    {'name':'letter_J', 'id':10},\n",
        "    {'name':'letter_K', 'id':11},\n",
        "    {'name':'letter_L', 'id':12},\n",
        "    {'name':'letter_M', 'id':13},\n",
        "    {'name':'letter_N', 'id':14},\n",
        "    {'name':'letter_O', 'id':15},\n",
        "    {'name':'letter_P', 'id':16},\n",
        "    {'name':'letter_Q', 'id':17},\n",
        "    {'name':'letter_R', 'id':18},\n",
        "    {'name':'letter_S', 'id':19},\n",
        "    {'name':'letter_T', 'id':20},\n",
        "    {'name':'letter_U', 'id':21},\n",
        "    {'name':'letter_V', 'id':22},\n",
        "    {'name':'letter_W', 'id':23},\n",
        "    {'name':'letter_X', 'id':24},\n",
        "    {'name':'letter_Y', 'id':25}\n",
        "]\n",
        "!touch label_map.pbtxt\n",
        "with open('label_map.pbtxt', 'w') as f:\n",
        "    for label in labels:\n",
        "        f.write('item { \\n')\n",
        "        f.write('\\tname:\\'{}\\'\\n'.format(label['name']))\n",
        "        f.write('\\tid:{}\\n'.format(label['id']))\n",
        "        f.write('}\\n')\n",
        "\n",
        "!touch label.txt\n",
        "with open('label.txt', 'w') as label_file:\n",
        "    for label in labels:\n",
        "        label_file.write(label['name'] + '\\n')"
      ],
      "metadata": {
        "id": "mNU9rV1_LrLW"
      },
      "execution_count": 30,
      "outputs": []
    },
    {
      "cell_type": "markdown",
      "metadata": {
        "id": "vH67M2M12s3n"
      },
      "source": [
        "### Create CSV Labels"
      ]
    },
    {
      "cell_type": "code",
      "metadata": {
        "id": "VyGisGxK4ag0",
        "colab": {
          "base_uri": "https://localhost:8080/"
        },
        "outputId": "72acac3d-8539-4ca9-9a4c-6886c69eff4c"
      },
      "source": [
        "# Convert files to CSV using RDB converter\n",
        "def xml_to_csv(path):\n",
        "  classes_names = []\n",
        "  xml_list = []\n",
        "\n",
        "  for xml_file in glob.glob(path + '/*.xml'):\n",
        "    tree = ET.parse(xml_file)\n",
        "    root = tree.getroot()\n",
        "    for member in root.findall('object'):\n",
        "      classes_names.append(member[0].text)\n",
        "      value = (root.find('filename').text  ,\n",
        "               int(root.find('size')[0].text),\n",
        "               int(root.find('size')[1].text),\n",
        "               member[0].text,\n",
        "               int(member[4][0].text),\n",
        "               int(member[4][1].text),\n",
        "               int(member[4][2].text),\n",
        "               int(member[4][3].text))\n",
        "      xml_list.append(value)\n",
        "  column_name = ['filename', 'width', 'height', 'class', 'xmin', 'ymin', 'xmax', 'ymax']\n",
        "  xml_df = pd.DataFrame(xml_list, columns=column_name)\n",
        "  classes_names = list(set(classes_names))\n",
        "  classes_names.sort()\n",
        "  return xml_df, classes_names\n",
        "\n",
        "for label_path in ['train_labels', 'test_labels']:\n",
        "  image_path = os.path.join(os.getcwd(), label_path)\n",
        "  xml_df, classes = xml_to_csv(label_path)\n",
        "  xml_df.to_csv(f'{label_path}.csv', index=None)\n",
        "  print(f'Successfully converted {label_path} xml to csv.')"
      ],
      "execution_count": 31,
      "outputs": [
        {
          "output_type": "stream",
          "name": "stdout",
          "text": [
            "Successfully converted train_labels xml to csv.\n",
            "Successfully converted test_labels xml to csv.\n"
          ]
        }
      ]
    },
    {
      "cell_type": "markdown",
      "metadata": {
        "id": "tblFU-i495qr"
      },
      "source": [
        "### Generate record files"
      ]
    },
    {
      "cell_type": "code",
      "metadata": {
        "id": "ET4SXdtYUIjZ",
        "colab": {
          "base_uri": "https://localhost:8080/"
        },
        "outputId": "2a3e041b-b76b-4783-8340-d9ada04debf1"
      },
      "source": [
        "!cp /mydrive/SignConnectModel/data/generate_tfrecord.py .\n",
        "\n",
        "!python generate_tfrecord.py train_labels.csv  label_map.pbtxt images/ train.record\n",
        "!python generate_tfrecord.py test_labels.csv  label_map.pbtxt images/ test.record"
      ],
      "execution_count": 32,
      "outputs": [
        {
          "output_type": "stream",
          "name": "stdout",
          "text": [
            "2024-05-06 09:47:46.835746: E external/local_xla/xla/stream_executor/cuda/cuda_dnn.cc:9261] Unable to register cuDNN factory: Attempting to register factory for plugin cuDNN when one has already been registered\n",
            "2024-05-06 09:47:46.835854: E external/local_xla/xla/stream_executor/cuda/cuda_fft.cc:607] Unable to register cuFFT factory: Attempting to register factory for plugin cuFFT when one has already been registered\n",
            "2024-05-06 09:47:46.856734: E external/local_xla/xla/stream_executor/cuda/cuda_blas.cc:1515] Unable to register cuBLAS factory: Attempting to register factory for plugin cuBLAS when one has already been registered\n",
            "2024-05-06 09:47:52.567688: W tensorflow/compiler/tf2tensorrt/utils/py_utils.cc:38] TF-TRT Warning: Could not find TensorRT\n",
            "groups:  21% 80/383 [00:12<00:45,  6.65it/s]\n",
            "Traceback (most recent call last):\n",
            "  File \"/content/generate_tfrecord.py\", line 137, in <module>\n",
            "    tf_example = create_tf_example(group, path, class_dict)\n",
            "  File \"/content/generate_tfrecord.py\", line 25, in create_tf_example\n",
            "    encoded_jpg = fid.read()\n",
            "  File \"/usr/local/lib/python3.10/dist-packages/tensorflow/python/lib/io/file_io.py\", line 116, in read\n",
            "    self._preread_check()\n",
            "  File \"/usr/local/lib/python3.10/dist-packages/tensorflow/python/lib/io/file_io.py\", line 77, in _preread_check\n",
            "    self._read_buf = _pywrap_file_io.BufferedInputStream(\n",
            "tensorflow.python.framework.errors_impl.NotFoundError: images/IMG_20240505_171903.jpg; No such file or directory\n",
            "2024-05-06 09:48:17.977585: E external/local_xla/xla/stream_executor/cuda/cuda_dnn.cc:9261] Unable to register cuDNN factory: Attempting to register factory for plugin cuDNN when one has already been registered\n",
            "2024-05-06 09:48:17.985086: E external/local_xla/xla/stream_executor/cuda/cuda_fft.cc:607] Unable to register cuFFT factory: Attempting to register factory for plugin cuFFT when one has already been registered\n",
            "2024-05-06 09:48:18.003205: E external/local_xla/xla/stream_executor/cuda/cuda_blas.cc:1515] Unable to register cuBLAS factory: Attempting to register factory for plugin cuBLAS when one has already been registered\n",
            "2024-05-06 09:48:24.220206: W tensorflow/compiler/tf2tensorrt/utils/py_utils.cc:38] TF-TRT Warning: Could not find TensorRT\n",
            "groups: 100% 74/74 [00:03<00:00, 20.35it/s]\n",
            "Successfully created the TFRecords: /content/test.record\n"
          ]
        }
      ]
    },
    {
      "cell_type": "markdown",
      "metadata": {
        "id": "nwWh49ClaBeD"
      },
      "source": [
        "## Train Model"
      ]
    },
    {
      "cell_type": "code",
      "source": [
        "# Alternatively use previously trained model. Skip remainder of this section.\n",
        "# !unzip /mydrive/SignConnectModel/training training"
      ],
      "metadata": {
        "id": "2g3CAbylJtVY"
      },
      "execution_count": 14,
      "outputs": []
    },
    {
      "cell_type": "code",
      "metadata": {
        "id": "obEW7RNEcowc",
        "colab": {
          "base_uri": "https://localhost:8080/"
        },
        "outputId": "c33827c0-5c65-4364-dfdd-117f25956391"
      },
      "source": [
        "!wget http://download.tensorflow.org/models/object_detection/tf2/20200711/ssd_mobilenet_v2_fpnlite_320x320_coco17_tpu-8.tar.gz\n",
        "!tar -xzvf ssd_mobilenet_v2_fpnlite_320x320_coco17_tpu-8.tar.gz"
      ],
      "execution_count": 15,
      "outputs": [
        {
          "output_type": "stream",
          "name": "stdout",
          "text": [
            "--2024-05-06 08:16:11--  http://download.tensorflow.org/models/object_detection/tf2/20200711/ssd_mobilenet_v2_fpnlite_320x320_coco17_tpu-8.tar.gz\n",
            "Resolving download.tensorflow.org (download.tensorflow.org)... 172.217.193.207, 172.217.204.207, 172.217.203.207, ...\n",
            "Connecting to download.tensorflow.org (download.tensorflow.org)|172.217.193.207|:80... connected.\n",
            "HTTP request sent, awaiting response... 200 OK\n",
            "Length: 20515344 (20M) [application/x-tar]\n",
            "Saving to: ‘ssd_mobilenet_v2_fpnlite_320x320_coco17_tpu-8.tar.gz’\n",
            "\n",
            "\r          ssd_mobil   0%[                    ]       0  --.-KB/s               \rssd_mobilenet_v2_fp 100%[===================>]  19.56M  --.-KB/s    in 0.1s    \n",
            "\n",
            "2024-05-06 08:16:11 (189 MB/s) - ‘ssd_mobilenet_v2_fpnlite_320x320_coco17_tpu-8.tar.gz’ saved [20515344/20515344]\n",
            "\n",
            "ssd_mobilenet_v2_fpnlite_320x320_coco17_tpu-8/\n",
            "ssd_mobilenet_v2_fpnlite_320x320_coco17_tpu-8/checkpoint/\n",
            "ssd_mobilenet_v2_fpnlite_320x320_coco17_tpu-8/checkpoint/ckpt-0.data-00000-of-00001\n",
            "ssd_mobilenet_v2_fpnlite_320x320_coco17_tpu-8/checkpoint/checkpoint\n",
            "ssd_mobilenet_v2_fpnlite_320x320_coco17_tpu-8/checkpoint/ckpt-0.index\n",
            "ssd_mobilenet_v2_fpnlite_320x320_coco17_tpu-8/pipeline.config\n",
            "ssd_mobilenet_v2_fpnlite_320x320_coco17_tpu-8/saved_model/\n",
            "ssd_mobilenet_v2_fpnlite_320x320_coco17_tpu-8/saved_model/saved_model.pb\n",
            "ssd_mobilenet_v2_fpnlite_320x320_coco17_tpu-8/saved_model/variables/\n",
            "ssd_mobilenet_v2_fpnlite_320x320_coco17_tpu-8/saved_model/variables/variables.data-00000-of-00001\n",
            "ssd_mobilenet_v2_fpnlite_320x320_coco17_tpu-8/saved_model/variables/variables.index\n"
          ]
        }
      ]
    },
    {
      "cell_type": "code",
      "metadata": {
        "id": "ze7ewaO3c545"
      },
      "source": [
        "# Get pipeline.config from Drive. File was modified manually\n",
        "!cp /mydrive/SignConnectModel/ssd_mobilenet_v2_fpnlite_320x320_coco17_tpu-8.config ."
      ],
      "execution_count": 16,
      "outputs": []
    },
    {
      "cell_type": "code",
      "source": [
        "# Local fix for tensorflow 2.15.0 bug\n",
        "!sed -i 's/_ops\\.cond/_ops_cond\\.cond/g; s/flow_ops\\.case/flow_case\\.case/g' /usr/local/lib/python3.10/dist-packages/tf_slim/data/tfexample_decoder.py\n",
        "!sed -i '45i from tensorflow.python.ops import cond as control_flow_ops_cond\\nfrom tensorflow.python.ops import control_flow_case\\n' /usr/local/lib/python3.10/dist-packages/tf_slim/data/tfexample_decoder.py"
      ],
      "metadata": {
        "id": "iw-3pyMBIoBv"
      },
      "execution_count": 18,
      "outputs": []
    },
    {
      "cell_type": "code",
      "metadata": {
        "id": "7LS0SBCgRuox",
        "colab": {
          "base_uri": "https://localhost:8080/"
        },
        "outputId": "0be9ad2d-5e83-455c-f733-d2374cd71e45"
      },
      "source": [
        "#!ls /content/ssd_mobilenet_v2_fpnlite_320x320_coco17_tpu-8.config\n",
        "!python models/research/object_detection/model_main_tf2.py \\\n",
        "  --pipeline_config_path=ssd_mobilenet_v2_fpnlite_320x320_coco17_tpu-8.config \\\n",
        "  --model_dir=training \\\n",
        "  --alsologtostderr"
      ],
      "execution_count": 22,
      "outputs": [
        {
          "output_type": "stream",
          "name": "stdout",
          "text": [
            "2024-05-06 08:31:47.597206: E external/local_xla/xla/stream_executor/cuda/cuda_dnn.cc:9261] Unable to register cuDNN factory: Attempting to register factory for plugin cuDNN when one has already been registered\n",
            "2024-05-06 08:31:47.597274: E external/local_xla/xla/stream_executor/cuda/cuda_fft.cc:607] Unable to register cuFFT factory: Attempting to register factory for plugin cuFFT when one has already been registered\n",
            "2024-05-06 08:31:47.599797: E external/local_xla/xla/stream_executor/cuda/cuda_blas.cc:1515] Unable to register cuBLAS factory: Attempting to register factory for plugin cuBLAS when one has already been registered\n",
            "2024-05-06 08:31:49.590867: W tensorflow/compiler/tf2tensorrt/utils/py_utils.cc:38] TF-TRT Warning: Could not find TensorRT\n",
            "INFO:tensorflow:Using MirroredStrategy with devices ('/job:localhost/replica:0/task:0/device:CPU:0',)\n",
            "I0506 08:31:53.509994 140567438409728 mirrored_strategy.py:423] Using MirroredStrategy with devices ('/job:localhost/replica:0/task:0/device:CPU:0',)\n",
            "INFO:tensorflow:Maybe overwriting train_steps: None\n",
            "I0506 08:31:53.540250 140567438409728 config_util.py:552] Maybe overwriting train_steps: None\n",
            "INFO:tensorflow:Maybe overwriting use_bfloat16: False\n",
            "I0506 08:31:53.540455 140567438409728 config_util.py:552] Maybe overwriting use_bfloat16: False\n",
            "WARNING:tensorflow:From /usr/local/lib/python3.10/dist-packages/object_detection/model_lib_v2.py:563: StrategyBase.experimental_distribute_datasets_from_function (from tensorflow.python.distribute.distribute_lib) is deprecated and will be removed in a future version.\n",
            "Instructions for updating:\n",
            "rename to distribute_datasets_from_function\n",
            "W0506 08:31:53.577132 140567438409728 deprecation.py:50] From /usr/local/lib/python3.10/dist-packages/object_detection/model_lib_v2.py:563: StrategyBase.experimental_distribute_datasets_from_function (from tensorflow.python.distribute.distribute_lib) is deprecated and will be removed in a future version.\n",
            "Instructions for updating:\n",
            "rename to distribute_datasets_from_function\n",
            "INFO:tensorflow:Reading unweighted datasets: ['/content/train.record']\n",
            "I0506 08:31:53.594426 140567438409728 dataset_builder.py:162] Reading unweighted datasets: ['/content/train.record']\n",
            "INFO:tensorflow:Reading record datasets for input file: ['/content/train.record']\n",
            "I0506 08:31:53.594741 140567438409728 dataset_builder.py:79] Reading record datasets for input file: ['/content/train.record']\n",
            "INFO:tensorflow:Number of filenames to read: 1\n",
            "I0506 08:31:53.594841 140567438409728 dataset_builder.py:80] Number of filenames to read: 1\n",
            "WARNING:tensorflow:num_readers has been reduced to 1 to match input file shards.\n",
            "W0506 08:31:53.594907 140567438409728 dataset_builder.py:86] num_readers has been reduced to 1 to match input file shards.\n",
            "WARNING:tensorflow:From /usr/local/lib/python3.10/dist-packages/object_detection/builders/dataset_builder.py:100: parallel_interleave (from tensorflow.python.data.experimental.ops.interleave_ops) is deprecated and will be removed in a future version.\n",
            "Instructions for updating:\n",
            "Use `tf.data.Dataset.interleave(map_func, cycle_length, block_length, num_parallel_calls=tf.data.AUTOTUNE)` instead. If sloppy execution is desired, use `tf.data.Options.deterministic`.\n",
            "W0506 08:31:53.621178 140567438409728 deprecation.py:50] From /usr/local/lib/python3.10/dist-packages/object_detection/builders/dataset_builder.py:100: parallel_interleave (from tensorflow.python.data.experimental.ops.interleave_ops) is deprecated and will be removed in a future version.\n",
            "Instructions for updating:\n",
            "Use `tf.data.Dataset.interleave(map_func, cycle_length, block_length, num_parallel_calls=tf.data.AUTOTUNE)` instead. If sloppy execution is desired, use `tf.data.Options.deterministic`.\n",
            "WARNING:tensorflow:From /usr/local/lib/python3.10/dist-packages/object_detection/builders/dataset_builder.py:235: DatasetV1.map_with_legacy_function (from tensorflow.python.data.ops.dataset_ops) is deprecated and will be removed in a future version.\n",
            "Instructions for updating:\n",
            "Use `tf.data.Dataset.map()\n",
            "W0506 08:31:53.646864 140567438409728 deprecation.py:50] From /usr/local/lib/python3.10/dist-packages/object_detection/builders/dataset_builder.py:235: DatasetV1.map_with_legacy_function (from tensorflow.python.data.ops.dataset_ops) is deprecated and will be removed in a future version.\n",
            "Instructions for updating:\n",
            "Use `tf.data.Dataset.map()\n",
            "WARNING:tensorflow:From /usr/local/lib/python3.10/dist-packages/tensorflow/python/util/dispatch.py:1260: sparse_to_dense (from tensorflow.python.ops.sparse_ops) is deprecated and will be removed in a future version.\n",
            "Instructions for updating:\n",
            "Create a `tf.sparse.SparseTensor` and use `tf.sparse.to_dense` instead.\n",
            "W0506 08:32:02.333566 140567438409728 deprecation.py:50] From /usr/local/lib/python3.10/dist-packages/tensorflow/python/util/dispatch.py:1260: sparse_to_dense (from tensorflow.python.ops.sparse_ops) is deprecated and will be removed in a future version.\n",
            "Instructions for updating:\n",
            "Create a `tf.sparse.SparseTensor` and use `tf.sparse.to_dense` instead.\n",
            "WARNING:tensorflow:From /usr/local/lib/python3.10/dist-packages/tensorflow/python/util/dispatch.py:1260: sample_distorted_bounding_box (from tensorflow.python.ops.image_ops_impl) is deprecated and will be removed in a future version.\n",
            "Instructions for updating:\n",
            "`seed2` arg is deprecated.Use sample_distorted_bounding_box_v2 instead.\n",
            "W0506 08:32:07.108956 140567438409728 deprecation.py:50] From /usr/local/lib/python3.10/dist-packages/tensorflow/python/util/dispatch.py:1260: sample_distorted_bounding_box (from tensorflow.python.ops.image_ops_impl) is deprecated and will be removed in a future version.\n",
            "Instructions for updating:\n",
            "`seed2` arg is deprecated.Use sample_distorted_bounding_box_v2 instead.\n",
            "WARNING:tensorflow:From /usr/local/lib/python3.10/dist-packages/tensorflow/python/util/dispatch.py:1260: to_float (from tensorflow.python.ops.math_ops) is deprecated and will be removed in a future version.\n",
            "Instructions for updating:\n",
            "Use `tf.cast` instead.\n",
            "W0506 08:32:09.518529 140567438409728 deprecation.py:50] From /usr/local/lib/python3.10/dist-packages/tensorflow/python/util/dispatch.py:1260: to_float (from tensorflow.python.ops.math_ops) is deprecated and will be removed in a future version.\n",
            "Instructions for updating:\n",
            "Use `tf.cast` instead.\n",
            "2024-05-06 08:32:12.607935: W tensorflow/core/framework/dataset.cc:959] Input of GeneratorDatasetOp::Dataset will not be optimized because the dataset does not implement the AsGraphDefInternal() method needed to apply optimizations.\n",
            "^C\n"
          ]
        }
      ]
    },
    {
      "cell_type": "markdown",
      "source": [
        "### Save Trained Model to Drive"
      ],
      "metadata": {
        "id": "QoY95Gh_FGPf"
      }
    },
    {
      "cell_type": "code",
      "source": [
        "!zip -r training training"
      ],
      "metadata": {
        "id": "_h33ZvAsk0ER"
      },
      "execution_count": null,
      "outputs": []
    },
    {
      "cell_type": "markdown",
      "metadata": {
        "id": "B_tTeYM5ScU1"
      },
      "source": [
        "## Export graph"
      ]
    },
    {
      "cell_type": "code",
      "metadata": {
        "id": "NB4JHHqHSoiq",
        "colab": {
          "base_uri": "https://localhost:8080/"
        },
        "outputId": "2eb99d45-ce7a-4d2a-b844-96dc7ddf9c26"
      },
      "source": [
        "!python /content/models/research/object_detection/exporter_main_v2.py \\\n",
        "  --trained_checkpoint_dir=training \\\n",
        "  --pipeline_config_path=ssd_mobilenet_v2_fpnlite_320x320_coco17_tpu-8.config \\\n",
        "  --output_directory inference_graph"
      ],
      "execution_count": 21,
      "outputs": [
        {
          "output_type": "stream",
          "name": "stdout",
          "text": [
            "2024-05-06 08:21:02.880458: E external/local_xla/xla/stream_executor/cuda/cuda_dnn.cc:9261] Unable to register cuDNN factory: Attempting to register factory for plugin cuDNN when one has already been registered\n",
            "2024-05-06 08:21:02.880516: E external/local_xla/xla/stream_executor/cuda/cuda_fft.cc:607] Unable to register cuFFT factory: Attempting to register factory for plugin cuFFT when one has already been registered\n",
            "2024-05-06 08:21:02.888196: E external/local_xla/xla/stream_executor/cuda/cuda_blas.cc:1515] Unable to register cuBLAS factory: Attempting to register factory for plugin cuBLAS when one has already been registered\n",
            "2024-05-06 08:21:05.135758: W tensorflow/compiler/tf2tensorrt/utils/py_utils.cc:38] TF-TRT Warning: Could not find TensorRT\n",
            "WARNING:tensorflow:From /usr/local/lib/python3.10/dist-packages/tensorflow/python/autograph/impl/api.py:459: calling map_fn_v2 (from tensorflow.python.ops.map_fn) with back_prop=False is deprecated and will be removed in a future version.\n",
            "Instructions for updating:\n",
            "back_prop=False is deprecated. Consider using tf.stop_gradient instead.\n",
            "Instead of:\n",
            "results = tf.map_fn(fn, elems, back_prop=False)\n",
            "Use:\n",
            "results = tf.nest.map_structure(tf.stop_gradient, tf.map_fn(fn, elems))\n",
            "W0506 08:21:13.876434 133879546339328 deprecation.py:50] From /usr/local/lib/python3.10/dist-packages/tensorflow/python/autograph/impl/api.py:459: calling map_fn_v2 (from tensorflow.python.ops.map_fn) with back_prop=False is deprecated and will be removed in a future version.\n",
            "Instructions for updating:\n",
            "back_prop=False is deprecated. Consider using tf.stop_gradient instead.\n",
            "Instead of:\n",
            "results = tf.map_fn(fn, elems, back_prop=False)\n",
            "Use:\n",
            "results = tf.nest.map_structure(tf.stop_gradient, tf.map_fn(fn, elems))\n",
            "I0506 08:21:18.404962 133879546339328 api.py:460] feature_map_spatial_dims: [(40, 40), (20, 20), (10, 10), (5, 5), (3, 3)]\n",
            "I0506 08:21:33.752706 133879546339328 api.py:460] feature_map_spatial_dims: [(40, 40), (20, 20), (10, 10), (5, 5), (3, 3)]\n",
            "Traceback (most recent call last):\n",
            "  File \"/content/models/research/object_detection/exporter_main_v2.py\", line 164, in <module>\n",
            "    app.run(main)\n",
            "  File \"/usr/local/lib/python3.10/dist-packages/absl/app.py\", line 308, in run\n",
            "    _run_main(main, args)\n",
            "  File \"/usr/local/lib/python3.10/dist-packages/absl/app.py\", line 254, in _run_main\n",
            "    sys.exit(main(argv))\n",
            "  File \"/content/models/research/object_detection/exporter_main_v2.py\", line 157, in main\n",
            "    exporter_lib_v2.export_inference_graph(\n",
            "  File \"/usr/local/lib/python3.10/dist-packages/object_detection/exporter_lib_v2.py\", line 271, in export_inference_graph\n",
            "    status.assert_existing_objects_matched()\n",
            "  File \"/usr/local/lib/python3.10/dist-packages/tensorflow/python/checkpoint/checkpoint.py\", line 983, in assert_existing_objects_matched\n",
            "    raise AssertionError(\n",
            "AssertionError: No checkpoint specified (save_path=None); nothing is being restored.\n"
          ]
        }
      ]
    },
    {
      "cell_type": "markdown",
      "metadata": {
        "id": "K9I6sd5yyIqT"
      },
      "source": [
        "## Export TFLite Graph"
      ]
    },
    {
      "cell_type": "code",
      "source": [
        "!cp /content/gdrive/MyDrive/SignConnectModel/tfexample_decoder.py /usr/local/lib/python3.10/dist-packages/tf_slim/data/."
      ],
      "metadata": {
        "id": "F0vR2FCsCzsD"
      },
      "execution_count": null,
      "outputs": []
    },
    {
      "cell_type": "code",
      "metadata": {
        "id": "LCepCTumuAPK",
        "colab": {
          "base_uri": "https://localhost:8080/"
        },
        "outputId": "809ae205-a56d-4770-f555-d3d0cc675883"
      },
      "source": [
        "!python /content/models/research/object_detection/export_tflite_graph_tf2.py \\\n",
        "  --pipeline_config_path ssd_mobilenet_v2_fpnlite_320x320_coco17_tpu-8.config \\\n",
        "  --trained_checkpoint_dir training \\\n",
        "  --output_directory tflite"
      ],
      "execution_count": null,
      "outputs": [
        {
          "output_type": "stream",
          "name": "stdout",
          "text": [
            "2024-05-04 10:56:57.076766: E external/local_xla/xla/stream_executor/cuda/cuda_dnn.cc:9261] Unable to register cuDNN factory: Attempting to register factory for plugin cuDNN when one has already been registered\n",
            "2024-05-04 10:56:57.076835: E external/local_xla/xla/stream_executor/cuda/cuda_fft.cc:607] Unable to register cuFFT factory: Attempting to register factory for plugin cuFFT when one has already been registered\n",
            "2024-05-04 10:56:57.078760: E external/local_xla/xla/stream_executor/cuda/cuda_blas.cc:1515] Unable to register cuBLAS factory: Attempting to register factory for plugin cuBLAS when one has already been registered\n",
            "2024-05-04 10:56:59.065669: W tensorflow/compiler/tf2tensorrt/utils/py_utils.cc:38] TF-TRT Warning: Could not find TensorRT\n",
            "I0504 10:57:07.002274 138237796151296 api.py:460] feature_map_spatial_dims: [(40, 40), (20, 20), (10, 10), (5, 5), (3, 3)]\n",
            "I0504 10:57:13.578443 138237796151296 api.py:460] feature_map_spatial_dims: [(40, 40), (20, 20), (10, 10), (5, 5), (3, 3)]\n",
            "I0504 10:57:15.478104 138237796151296 signature_serialization.py:156] Function `inference_fn` contains input name(s) resource with unsupported characters which will be renamed to weightsharedconvolutionalboxpredictor_predictiontower_conv2d_3_batchnorm_feature_4_fusedbatchnormv3_readvariableop_1_resource in the SavedModel.\n",
            "I0504 10:57:16.875955 138237796151296 api.py:460] feature_map_spatial_dims: [(40, 40), (20, 20), (10, 10), (5, 5), (3, 3)]\n",
            "WARNING:tensorflow:Skipping full serialization of Keras layer <object_detection.meta_architectures.ssd_meta_arch.SSDMetaArch object at 0x7db988ecae00>, because it is not built.\n",
            "W0504 10:57:18.498752 138237796151296 save_impl.py:66] Skipping full serialization of Keras layer <object_detection.meta_architectures.ssd_meta_arch.SSDMetaArch object at 0x7db988ecae00>, because it is not built.\n",
            "WARNING:tensorflow:Skipping full serialization of Keras layer <keras.src.layers.convolutional.separable_conv2d.SeparableConv2D object at 0x7db981322650>, because it is not built.\n",
            "W0504 10:57:18.881421 138237796151296 save_impl.py:66] Skipping full serialization of Keras layer <keras.src.layers.convolutional.separable_conv2d.SeparableConv2D object at 0x7db981322650>, because it is not built.\n",
            "WARNING:tensorflow:Skipping full serialization of Keras layer <object_detection.core.freezable_batch_norm.FreezableBatchNorm object at 0x7db9814dae00>, because it is not built.\n",
            "W0504 10:57:18.881705 138237796151296 save_impl.py:66] Skipping full serialization of Keras layer <object_detection.core.freezable_batch_norm.FreezableBatchNorm object at 0x7db9814dae00>, because it is not built.\n",
            "WARNING:tensorflow:Skipping full serialization of Keras layer <keras.src.layers.core.lambda_layer.Lambda object at 0x7db9814dae30>, because it is not built.\n",
            "W0504 10:57:18.881840 138237796151296 save_impl.py:66] Skipping full serialization of Keras layer <keras.src.layers.core.lambda_layer.Lambda object at 0x7db9814dae30>, because it is not built.\n",
            "WARNING:tensorflow:Skipping full serialization of Keras layer <keras.src.layers.convolutional.separable_conv2d.SeparableConv2D object at 0x7db9814d9b10>, because it is not built.\n",
            "W0504 10:57:18.881947 138237796151296 save_impl.py:66] Skipping full serialization of Keras layer <keras.src.layers.convolutional.separable_conv2d.SeparableConv2D object at 0x7db9814d9b10>, because it is not built.\n",
            "WARNING:tensorflow:Skipping full serialization of Keras layer <object_detection.core.freezable_batch_norm.FreezableBatchNorm object at 0x7db9814d95d0>, because it is not built.\n",
            "W0504 10:57:18.882050 138237796151296 save_impl.py:66] Skipping full serialization of Keras layer <object_detection.core.freezable_batch_norm.FreezableBatchNorm object at 0x7db9814d95d0>, because it is not built.\n",
            "WARNING:tensorflow:Skipping full serialization of Keras layer <keras.src.layers.core.lambda_layer.Lambda object at 0x7db9817bfa90>, because it is not built.\n",
            "W0504 10:57:18.882151 138237796151296 save_impl.py:66] Skipping full serialization of Keras layer <keras.src.layers.core.lambda_layer.Lambda object at 0x7db9817bfa90>, because it is not built.\n",
            "WARNING:tensorflow:Skipping full serialization of Keras layer <keras.src.layers.convolutional.separable_conv2d.SeparableConv2D object at 0x7db9817bda20>, because it is not built.\n",
            "W0504 10:57:18.882253 138237796151296 save_impl.py:66] Skipping full serialization of Keras layer <keras.src.layers.convolutional.separable_conv2d.SeparableConv2D object at 0x7db9817bda20>, because it is not built.\n",
            "WARNING:tensorflow:Skipping full serialization of Keras layer <object_detection.core.freezable_batch_norm.FreezableBatchNorm object at 0x7db988288fd0>, because it is not built.\n",
            "W0504 10:57:18.882348 138237796151296 save_impl.py:66] Skipping full serialization of Keras layer <object_detection.core.freezable_batch_norm.FreezableBatchNorm object at 0x7db988288fd0>, because it is not built.\n",
            "WARNING:tensorflow:Skipping full serialization of Keras layer <keras.src.layers.core.lambda_layer.Lambda object at 0x7db981528100>, because it is not built.\n",
            "W0504 10:57:18.882454 138237796151296 save_impl.py:66] Skipping full serialization of Keras layer <keras.src.layers.core.lambda_layer.Lambda object at 0x7db981528100>, because it is not built.\n",
            "WARNING:tensorflow:Skipping full serialization of Keras layer <keras.src.layers.convolutional.separable_conv2d.SeparableConv2D object at 0x7db981528d90>, because it is not built.\n",
            "W0504 10:57:18.882566 138237796151296 save_impl.py:66] Skipping full serialization of Keras layer <keras.src.layers.convolutional.separable_conv2d.SeparableConv2D object at 0x7db981528d90>, because it is not built.\n",
            "WARNING:tensorflow:Skipping full serialization of Keras layer <object_detection.core.freezable_batch_norm.FreezableBatchNorm object at 0x7db98152bd60>, because it is not built.\n",
            "W0504 10:57:18.882692 138237796151296 save_impl.py:66] Skipping full serialization of Keras layer <object_detection.core.freezable_batch_norm.FreezableBatchNorm object at 0x7db98152bd60>, because it is not built.\n",
            "WARNING:tensorflow:Skipping full serialization of Keras layer <keras.src.layers.core.lambda_layer.Lambda object at 0x7db9815289a0>, because it is not built.\n",
            "W0504 10:57:18.882797 138237796151296 save_impl.py:66] Skipping full serialization of Keras layer <keras.src.layers.core.lambda_layer.Lambda object at 0x7db9815289a0>, because it is not built.\n",
            "WARNING:tensorflow:Skipping full serialization of Keras layer <object_detection.core.freezable_batch_norm.FreezableBatchNorm object at 0x7db98152a9b0>, because it is not built.\n",
            "W0504 10:57:18.882896 138237796151296 save_impl.py:66] Skipping full serialization of Keras layer <object_detection.core.freezable_batch_norm.FreezableBatchNorm object at 0x7db98152a9b0>, because it is not built.\n",
            "WARNING:tensorflow:Skipping full serialization of Keras layer <keras.src.layers.core.lambda_layer.Lambda object at 0x7db9815c3ee0>, because it is not built.\n",
            "W0504 10:57:18.883023 138237796151296 save_impl.py:66] Skipping full serialization of Keras layer <keras.src.layers.core.lambda_layer.Lambda object at 0x7db9815c3ee0>, because it is not built.\n",
            "WARNING:tensorflow:Skipping full serialization of Keras layer <object_detection.core.freezable_batch_norm.FreezableBatchNorm object at 0x7db981673400>, because it is not built.\n",
            "W0504 10:57:18.883124 138237796151296 save_impl.py:66] Skipping full serialization of Keras layer <object_detection.core.freezable_batch_norm.FreezableBatchNorm object at 0x7db981673400>, because it is not built.\n",
            "WARNING:tensorflow:Skipping full serialization of Keras layer <keras.src.layers.core.lambda_layer.Lambda object at 0x7db981671090>, because it is not built.\n",
            "W0504 10:57:18.883221 138237796151296 save_impl.py:66] Skipping full serialization of Keras layer <keras.src.layers.core.lambda_layer.Lambda object at 0x7db981671090>, because it is not built.\n",
            "WARNING:tensorflow:Skipping full serialization of Keras layer <object_detection.core.freezable_batch_norm.FreezableBatchNorm object at 0x7db9817c6410>, because it is not built.\n",
            "W0504 10:57:18.883316 138237796151296 save_impl.py:66] Skipping full serialization of Keras layer <object_detection.core.freezable_batch_norm.FreezableBatchNorm object at 0x7db9817c6410>, because it is not built.\n",
            "WARNING:tensorflow:Skipping full serialization of Keras layer <keras.src.layers.core.lambda_layer.Lambda object at 0x7db981410ee0>, because it is not built.\n",
            "W0504 10:57:18.883421 138237796151296 save_impl.py:66] Skipping full serialization of Keras layer <keras.src.layers.core.lambda_layer.Lambda object at 0x7db981410ee0>, because it is not built.\n",
            "WARNING:tensorflow:Skipping full serialization of Keras layer <object_detection.core.freezable_batch_norm.FreezableBatchNorm object at 0x7db981410e20>, because it is not built.\n",
            "W0504 10:57:18.883528 138237796151296 save_impl.py:66] Skipping full serialization of Keras layer <object_detection.core.freezable_batch_norm.FreezableBatchNorm object at 0x7db981410e20>, because it is not built.\n",
            "WARNING:tensorflow:Skipping full serialization of Keras layer <keras.src.layers.core.lambda_layer.Lambda object at 0x7db981411000>, because it is not built.\n",
            "W0504 10:57:18.884851 138237796151296 save_impl.py:66] Skipping full serialization of Keras layer <keras.src.layers.core.lambda_layer.Lambda object at 0x7db981411000>, because it is not built.\n",
            "WARNING:tensorflow:Skipping full serialization of Keras layer <object_detection.core.freezable_batch_norm.FreezableBatchNorm object at 0x7db981411fc0>, because it is not built.\n",
            "W0504 10:57:18.884987 138237796151296 save_impl.py:66] Skipping full serialization of Keras layer <object_detection.core.freezable_batch_norm.FreezableBatchNorm object at 0x7db981411fc0>, because it is not built.\n",
            "WARNING:tensorflow:Skipping full serialization of Keras layer <keras.src.layers.core.lambda_layer.Lambda object at 0x7db981332e90>, because it is not built.\n",
            "W0504 10:57:18.885091 138237796151296 save_impl.py:66] Skipping full serialization of Keras layer <keras.src.layers.core.lambda_layer.Lambda object at 0x7db981332e90>, because it is not built.\n",
            "WARNING:tensorflow:Skipping full serialization of Keras layer <object_detection.core.freezable_batch_norm.FreezableBatchNorm object at 0x7db9813332e0>, because it is not built.\n",
            "W0504 10:57:18.885193 138237796151296 save_impl.py:66] Skipping full serialization of Keras layer <object_detection.core.freezable_batch_norm.FreezableBatchNorm object at 0x7db9813332e0>, because it is not built.\n",
            "WARNING:tensorflow:Skipping full serialization of Keras layer <keras.src.layers.core.lambda_layer.Lambda object at 0x7db981331960>, because it is not built.\n",
            "W0504 10:57:18.885295 138237796151296 save_impl.py:66] Skipping full serialization of Keras layer <keras.src.layers.core.lambda_layer.Lambda object at 0x7db981331960>, because it is not built.\n",
            "WARNING:tensorflow:Skipping full serialization of Keras layer <object_detection.core.freezable_batch_norm.FreezableBatchNorm object at 0x7db981331540>, because it is not built.\n",
            "W0504 10:57:18.885404 138237796151296 save_impl.py:66] Skipping full serialization of Keras layer <object_detection.core.freezable_batch_norm.FreezableBatchNorm object at 0x7db981331540>, because it is not built.\n",
            "WARNING:tensorflow:Skipping full serialization of Keras layer <keras.src.layers.core.lambda_layer.Lambda object at 0x7db981331c00>, because it is not built.\n",
            "W0504 10:57:18.885518 138237796151296 save_impl.py:66] Skipping full serialization of Keras layer <keras.src.layers.core.lambda_layer.Lambda object at 0x7db981331c00>, because it is not built.\n",
            "WARNING:tensorflow:Skipping full serialization of Keras layer <object_detection.core.freezable_batch_norm.FreezableBatchNorm object at 0x7db981332740>, because it is not built.\n",
            "W0504 10:57:18.885621 138237796151296 save_impl.py:66] Skipping full serialization of Keras layer <object_detection.core.freezable_batch_norm.FreezableBatchNorm object at 0x7db981332740>, because it is not built.\n",
            "WARNING:tensorflow:Skipping full serialization of Keras layer <keras.src.layers.core.lambda_layer.Lambda object at 0x7db981330550>, because it is not built.\n",
            "W0504 10:57:18.885723 138237796151296 save_impl.py:66] Skipping full serialization of Keras layer <keras.src.layers.core.lambda_layer.Lambda object at 0x7db981330550>, because it is not built.\n",
            "WARNING:tensorflow:Skipping full serialization of Keras layer <object_detection.core.freezable_batch_norm.FreezableBatchNorm object at 0x7db9813312a0>, because it is not built.\n",
            "W0504 10:57:18.885818 138237796151296 save_impl.py:66] Skipping full serialization of Keras layer <object_detection.core.freezable_batch_norm.FreezableBatchNorm object at 0x7db9813312a0>, because it is not built.\n",
            "WARNING:tensorflow:Skipping full serialization of Keras layer <keras.src.layers.core.lambda_layer.Lambda object at 0x7db9813319f0>, because it is not built.\n",
            "W0504 10:57:18.885914 138237796151296 save_impl.py:66] Skipping full serialization of Keras layer <keras.src.layers.core.lambda_layer.Lambda object at 0x7db9813319f0>, because it is not built.\n",
            "WARNING:tensorflow:Skipping full serialization of Keras layer <object_detection.core.freezable_batch_norm.FreezableBatchNorm object at 0x7db9816bae90>, because it is not built.\n",
            "W0504 10:57:18.886007 138237796151296 save_impl.py:66] Skipping full serialization of Keras layer <object_detection.core.freezable_batch_norm.FreezableBatchNorm object at 0x7db9816bae90>, because it is not built.\n",
            "WARNING:tensorflow:Skipping full serialization of Keras layer <keras.src.layers.core.lambda_layer.Lambda object at 0x7db9816babc0>, because it is not built.\n",
            "W0504 10:57:18.886105 138237796151296 save_impl.py:66] Skipping full serialization of Keras layer <keras.src.layers.core.lambda_layer.Lambda object at 0x7db9816babc0>, because it is not built.\n",
            "WARNING:tensorflow:Skipping full serialization of Keras layer <object_detection.core.freezable_batch_norm.FreezableBatchNorm object at 0x7db9816baf20>, because it is not built.\n",
            "W0504 10:57:18.886203 138237796151296 save_impl.py:66] Skipping full serialization of Keras layer <object_detection.core.freezable_batch_norm.FreezableBatchNorm object at 0x7db9816baf20>, because it is not built.\n",
            "WARNING:tensorflow:Skipping full serialization of Keras layer <keras.src.layers.core.lambda_layer.Lambda object at 0x7db9816b90c0>, because it is not built.\n",
            "W0504 10:57:18.886298 138237796151296 save_impl.py:66] Skipping full serialization of Keras layer <keras.src.layers.core.lambda_layer.Lambda object at 0x7db9816b90c0>, because it is not built.\n",
            "WARNING:tensorflow:Skipping full serialization of Keras layer <object_detection.core.freezable_batch_norm.FreezableBatchNorm object at 0x7db9816bb970>, because it is not built.\n",
            "W0504 10:57:18.886437 138237796151296 save_impl.py:66] Skipping full serialization of Keras layer <object_detection.core.freezable_batch_norm.FreezableBatchNorm object at 0x7db9816bb970>, because it is not built.\n",
            "WARNING:tensorflow:Skipping full serialization of Keras layer <keras.src.layers.core.lambda_layer.Lambda object at 0x7db981605b40>, because it is not built.\n",
            "W0504 10:57:18.886561 138237796151296 save_impl.py:66] Skipping full serialization of Keras layer <keras.src.layers.core.lambda_layer.Lambda object at 0x7db981605b40>, because it is not built.\n",
            "WARNING:tensorflow:Skipping full serialization of Keras layer <object_detection.core.freezable_batch_norm.FreezableBatchNorm object at 0x7db9817756c0>, because it is not built.\n",
            "W0504 10:57:18.886661 138237796151296 save_impl.py:66] Skipping full serialization of Keras layer <object_detection.core.freezable_batch_norm.FreezableBatchNorm object at 0x7db9817756c0>, because it is not built.\n",
            "WARNING:tensorflow:Skipping full serialization of Keras layer <keras.src.layers.core.lambda_layer.Lambda object at 0x7db9814f7190>, because it is not built.\n",
            "W0504 10:57:18.886762 138237796151296 save_impl.py:66] Skipping full serialization of Keras layer <keras.src.layers.core.lambda_layer.Lambda object at 0x7db9814f7190>, because it is not built.\n",
            "WARNING:tensorflow:Skipping full serialization of Keras layer <object_detection.core.freezable_batch_norm.FreezableBatchNorm object at 0x7db9814f71c0>, because it is not built.\n",
            "W0504 10:57:18.886874 138237796151296 save_impl.py:66] Skipping full serialization of Keras layer <object_detection.core.freezable_batch_norm.FreezableBatchNorm object at 0x7db9814f71c0>, because it is not built.\n",
            "WARNING:tensorflow:Skipping full serialization of Keras layer <keras.src.layers.core.lambda_layer.Lambda object at 0x7db9814f7130>, because it is not built.\n",
            "W0504 10:57:18.886998 138237796151296 save_impl.py:66] Skipping full serialization of Keras layer <keras.src.layers.core.lambda_layer.Lambda object at 0x7db9814f7130>, because it is not built.\n",
            "WARNING:tensorflow:Skipping full serialization of Keras layer <object_detection.core.freezable_batch_norm.FreezableBatchNorm object at 0x7db9814f6e90>, because it is not built.\n",
            "W0504 10:57:18.887098 138237796151296 save_impl.py:66] Skipping full serialization of Keras layer <object_detection.core.freezable_batch_norm.FreezableBatchNorm object at 0x7db9814f6e90>, because it is not built.\n",
            "WARNING:tensorflow:Skipping full serialization of Keras layer <keras.src.layers.core.lambda_layer.Lambda object at 0x7db9814f40a0>, because it is not built.\n",
            "W0504 10:57:18.887195 138237796151296 save_impl.py:66] Skipping full serialization of Keras layer <keras.src.layers.core.lambda_layer.Lambda object at 0x7db9814f40a0>, because it is not built.\n",
            "WARNING:tensorflow:Skipping full serialization of Keras layer <object_detection.core.freezable_batch_norm.FreezableBatchNorm object at 0x7db9814f4c70>, because it is not built.\n",
            "W0504 10:57:18.887290 138237796151296 save_impl.py:66] Skipping full serialization of Keras layer <object_detection.core.freezable_batch_norm.FreezableBatchNorm object at 0x7db9814f4c70>, because it is not built.\n",
            "WARNING:tensorflow:Skipping full serialization of Keras layer <keras.src.layers.core.lambda_layer.Lambda object at 0x7db9814f58a0>, because it is not built.\n",
            "W0504 10:57:18.917666 138237796151296 save_impl.py:66] Skipping full serialization of Keras layer <keras.src.layers.core.lambda_layer.Lambda object at 0x7db9814f58a0>, because it is not built.\n",
            "I0504 10:57:38.961878 138237796151296 save.py:289] Found untraced functions such as WeightSharedConvolutionalBoxPredictor_layer_call_fn, WeightSharedConvolutionalBoxPredictor_layer_call_and_return_conditional_losses, WeightSharedConvolutionalBoxHead_layer_call_fn, WeightSharedConvolutionalBoxHead_layer_call_and_return_conditional_losses, WeightSharedConvolutionalClassHead_layer_call_fn while saving (showing 5 of 173). These functions will not be directly callable after loading.\n",
            "INFO:tensorflow:Assets written to: tflite/saved_model/assets\n",
            "I0504 10:57:47.059499 138237796151296 builder_impl.py:801] Assets written to: tflite/saved_model/assets\n",
            "I0504 10:57:47.403209 138237796151296 fingerprinting_utils.py:49] Writing fingerprint to tflite/saved_model/fingerprint.pb\n"
          ]
        }
      ]
    },
    {
      "cell_type": "markdown",
      "metadata": {
        "id": "9ay_uDcUNv-H"
      },
      "source": [
        "## Convert to TFLite"
      ]
    },
    {
      "cell_type": "code",
      "metadata": {
        "id": "HUb6Rwk_MKE1",
        "colab": {
          "base_uri": "https://localhost:8080/"
        },
        "outputId": "c441ee9b-50ec-4f1a-ea7f-b7d6eb48eb8d"
      },
      "source": [
        "!tflite_convert \\\n",
        "  --saved_model_dir=tflite/saved_model \\\n",
        "  --output_file=tflite/model.tflite"
      ],
      "execution_count": null,
      "outputs": [
        {
          "output_type": "stream",
          "name": "stdout",
          "text": [
            "2024-05-04 12:28:39.766379: E external/local_xla/xla/stream_executor/cuda/cuda_dnn.cc:9261] Unable to register cuDNN factory: Attempting to register factory for plugin cuDNN when one has already been registered\n",
            "2024-05-04 12:28:39.766454: E external/local_xla/xla/stream_executor/cuda/cuda_fft.cc:607] Unable to register cuFFT factory: Attempting to register factory for plugin cuFFT when one has already been registered\n",
            "2024-05-04 12:28:39.767856: E external/local_xla/xla/stream_executor/cuda/cuda_blas.cc:1515] Unable to register cuBLAS factory: Attempting to register factory for plugin cuBLAS when one has already been registered\n",
            "Summary on the non-converted ops:\n",
            "---------------------------------\n",
            " * Accepted dialects: tfl, builtin, func\n",
            " * Non-Converted Ops: 180, Total Ops 340, % non-converted = 52.94 %\n",
            " * 180 ARITH ops\n",
            "\n",
            "- arith.constant:  180 occurrences  (f32: 174, i32: 6)\n",
            "\n",
            "\n",
            "\n",
            "  (f32: 12)\n",
            "  (f32: 2)\n",
            "  (f32: 72)\n",
            "  (f32: 1)\n",
            "  (f32: 51)\n",
            "  (f32: 1)\n",
            "  (f32: 4)\n",
            "  (f32: 14)\n"
          ]
        }
      ]
    },
    {
      "cell_type": "markdown",
      "metadata": {
        "id": "vohoHMVU9Agr"
      },
      "source": [
        "## Attach Metadata"
      ]
    },
    {
      "cell_type": "code",
      "source": [
        "!pip install tflite-support"
      ],
      "metadata": {
        "colab": {
          "base_uri": "https://localhost:8080/"
        },
        "id": "XYSSY5bzUkCu",
        "outputId": "5f9f6a87-c54f-4ef2-8643-0cd91d8842f8"
      },
      "execution_count": null,
      "outputs": [
        {
          "output_type": "stream",
          "name": "stdout",
          "text": [
            "Requirement already satisfied: tflite-support in /usr/local/lib/python3.10/dist-packages (0.4.4)\n",
            "Requirement already satisfied: absl-py>=0.7.0 in /usr/local/lib/python3.10/dist-packages (from tflite-support) (1.4.0)\n",
            "Requirement already satisfied: numpy>=1.20.0 in /usr/local/lib/python3.10/dist-packages (from tflite-support) (1.25.2)\n",
            "Requirement already satisfied: flatbuffers>=2.0 in /usr/local/lib/python3.10/dist-packages (from tflite-support) (24.3.25)\n",
            "Requirement already satisfied: protobuf<4,>=3.18.0 in /usr/local/lib/python3.10/dist-packages (from tflite-support) (3.20.3)\n",
            "Requirement already satisfied: sounddevice>=0.4.4 in /usr/local/lib/python3.10/dist-packages (from tflite-support) (0.4.6)\n",
            "Requirement already satisfied: pybind11>=2.6.0 in /usr/local/lib/python3.10/dist-packages (from tflite-support) (2.12.0)\n",
            "Requirement already satisfied: CFFI>=1.0 in /usr/local/lib/python3.10/dist-packages (from sounddevice>=0.4.4->tflite-support) (1.16.0)\n",
            "Requirement already satisfied: pycparser in /usr/local/lib/python3.10/dist-packages (from CFFI>=1.0->sounddevice>=0.4.4->tflite-support) (2.22)\n"
          ]
        }
      ]
    },
    {
      "cell_type": "code",
      "metadata": {
        "id": "OJNFJWctYdIM"
      },
      "source": [
        "!mkdir tflite/tflite_with_metadata"
      ],
      "execution_count": null,
      "outputs": []
    },
    {
      "cell_type": "code",
      "metadata": {
        "id": "qfvqgQJtGuHX",
        "colab": {
          "base_uri": "https://localhost:8080/"
        },
        "outputId": "f2f05501-c564-4a96-b1c6-d81e015d46fc"
      },
      "source": [
        "# Attach Metadata to TFLite\n",
        "from tflite_support.metadata_writers import object_detector\n",
        "from tflite_support.metadata_writers import writer_utils\n",
        "\n",
        "import flatbuffers\n",
        "import os\n",
        "from tensorflow_lite_support.metadata import metadata_schema_py_generated as _metadata_fb\n",
        "from tensorflow_lite_support.metadata.python import metadata as metadata\n",
        "from tensorflow_lite_support.metadata.python.metadata_writers import metadata_info\n",
        "from tensorflow_lite_support.metadata.python.metadata_writers import metadata_writer\n",
        "from tensorflow_lite_support.metadata.python.metadata_writers import writer_utils\n",
        "\n",
        "ObjectDetectorWriter = object_detector.MetadataWriter\n",
        "\n",
        "_MODEL_PATH = \"tflite/model.tflite\"\n",
        "_LABEL_FILE = \"label.txt\"\n",
        "_SAVE_TO_PATH = \"tflite/tflite_with_metadata/model.tflite\"\n",
        "\n",
        "writer = ObjectDetectorWriter.create_for_inference(\n",
        "    writer_utils.load_file(_MODEL_PATH), [127.5], [127.5], [_LABEL_FILE])\n",
        "writer_utils.save_file(writer.populate(), _SAVE_TO_PATH)\n",
        "\n",
        "# Verify the populated metadata and associated files.\n",
        "displayer = metadata.MetadataDisplayer.with_model_file(_SAVE_TO_PATH)\n",
        "print(\"Metadata populated:\")\n",
        "print(displayer.get_metadata_json())\n",
        "print(\"Associated file(s) populated:\")\n",
        "print(displayer.get_packed_associated_file_list())\n",
        "\n",
        "model_meta = _metadata_fb.ModelMetadataT()\n",
        "model_meta.name = \"SSD_Detector\"\n",
        "model_meta.description = (\n",
        "    \"Identify which of a known set of objects might be present and provide \"\n",
        "    \"information about their positions within the given image or a video \"\n",
        "    \"stream.\")\n",
        "\n",
        "# Create input info\n",
        "input_meta = _metadata_fb.TensorMetadataT()\n",
        "input_meta.name = \"image\"\n",
        "input_meta.content = _metadata_fb.ContentT()\n",
        "input_meta.content.contentProperties = _metadata_fb.ImagePropertiesT()\n",
        "input_meta.content.contentProperties.colorSpace = (\n",
        "    _metadata_fb.ColorSpaceType.RGB)\n",
        "input_meta.content.contentPropertiesType = (\n",
        "    _metadata_fb.ContentProperties.ImageProperties)\n",
        "input_normalization = _metadata_fb.ProcessUnitT()\n",
        "input_normalization.optionsType = (\n",
        "    _metadata_fb.ProcessUnitOptions.NormalizationOptions)\n",
        "input_normalization.options = _metadata_fb.NormalizationOptionsT()\n",
        "input_normalization.options.mean = [127.5]\n",
        "input_normalization.options.std = [127.5]\n",
        "input_meta.processUnits = [input_normalization]\n",
        "input_stats = _metadata_fb.StatsT()\n",
        "input_stats.max = [255]\n",
        "input_stats.min = [0]\n",
        "input_meta.stats = input_stats\n",
        "\n",
        "# Create output info\n",
        "output_location_meta = _metadata_fb.TensorMetadataT()\n",
        "output_location_meta.name = \"location\"\n",
        "output_location_meta.description = \"The locations of the detected boxes.\"\n",
        "output_location_meta.content = _metadata_fb.ContentT()\n",
        "output_location_meta.content.contentPropertiesType = (\n",
        "    _metadata_fb.ContentProperties.BoundingBoxProperties)\n",
        "output_location_meta.content.contentProperties = (\n",
        "    _metadata_fb.BoundingBoxPropertiesT())\n",
        "output_location_meta.content.contentProperties.index = [1, 0, 3, 2]\n",
        "output_location_meta.content.contentProperties.type = (\n",
        "    _metadata_fb.BoundingBoxType.BOUNDARIES)\n",
        "output_location_meta.content.contentProperties.coordinateType = (\n",
        "    _metadata_fb.CoordinateType.RATIO)\n",
        "output_location_meta.content.range = _metadata_fb.ValueRangeT()\n",
        "output_location_meta.content.range.min = 2\n",
        "output_location_meta.content.range.max = 2\n",
        "\n",
        "output_class_meta = _metadata_fb.TensorMetadataT()\n",
        "output_class_meta.name = \"category\"\n",
        "output_class_meta.description = \"The categories of the detected boxes.\"\n",
        "output_class_meta.content = _metadata_fb.ContentT()\n",
        "output_class_meta.content.contentPropertiesType = (\n",
        "    _metadata_fb.ContentProperties.FeatureProperties)\n",
        "output_class_meta.content.contentProperties = (\n",
        "    _metadata_fb.FeaturePropertiesT())\n",
        "output_class_meta.content.range = _metadata_fb.ValueRangeT()\n",
        "output_class_meta.content.range.min = 2\n",
        "output_class_meta.content.range.max = 2\n",
        "label_file = _metadata_fb.AssociatedFileT()\n",
        "label_file.name = os.path.basename(\"labelmap.txt\")\n",
        "label_file.description = \"Label of objects that this model can recognize.\"\n",
        "label_file.type = _metadata_fb.AssociatedFileType.TENSOR_VALUE_LABELS\n",
        "output_class_meta.associatedFiles = [label_file]\n",
        "\n",
        "output_score_meta = _metadata_fb.TensorMetadataT()\n",
        "output_score_meta.name = \"score\"\n",
        "output_score_meta.description = \"The scores of the detected boxes.\"\n",
        "output_score_meta.content = _metadata_fb.ContentT()\n",
        "output_score_meta.content.contentPropertiesType = (\n",
        "    _metadata_fb.ContentProperties.FeatureProperties)\n",
        "output_score_meta.content.contentProperties = (\n",
        "    _metadata_fb.FeaturePropertiesT())\n",
        "output_score_meta.content.range = _metadata_fb.ValueRangeT()\n",
        "output_score_meta.content.range.min = 2\n",
        "output_score_meta.content.range.max = 2\n",
        "\n",
        "output_number_meta = _metadata_fb.TensorMetadataT()\n",
        "output_number_meta.name = \"number of detections\"\n",
        "output_number_meta.description = \"The number of the detected boxes.\"\n",
        "output_number_meta.content = _metadata_fb.ContentT()\n",
        "output_number_meta.content.contentPropertiesType = (\n",
        "    _metadata_fb.ContentProperties.FeatureProperties)\n",
        "output_number_meta.content.contentProperties = (\n",
        "    _metadata_fb.FeaturePropertiesT())\n",
        "\n",
        "# Create subgraph info\n",
        "group = _metadata_fb.TensorGroupT()\n",
        "group.name = \"detection result\"\n",
        "group.tensorNames = [\n",
        "    output_location_meta.name, output_class_meta.name,\n",
        "    output_score_meta.name\n",
        "]\n",
        "subgraph = _metadata_fb.SubGraphMetadataT()\n",
        "subgraph.inputTensorMetadata = [input_meta]\n",
        "\n",
        "subgraph.outputTensorMetadata = [\n",
        "    output_location_meta, output_class_meta, output_score_meta,\n",
        "    output_number_meta\n",
        "]\n",
        "subgraph.outputTensorGroups = [group]\n",
        "model_meta.subgraphMetadata = [subgraph]\n",
        "\n",
        "b = flatbuffers.Builder(0)\n",
        "b.Finish(\n",
        "    model_meta.Pack(b),\n",
        "    metadata.MetadataPopulator.METADATA_FILE_IDENTIFIER)\n",
        "metadata_buf = b.Output()"
      ],
      "execution_count": null,
      "outputs": [
        {
          "output_type": "stream",
          "name": "stdout",
          "text": [
            "Metadata populated:\n",
            "{\n",
            "  \"name\": \"ObjectDetector\",\n",
            "  \"description\": \"Identify which of a known set of objects might be present and provide information about their positions within the given image or a video stream.\",\n",
            "  \"subgraph_metadata\": [\n",
            "    {\n",
            "      \"input_tensor_metadata\": [\n",
            "        {\n",
            "          \"name\": \"image\",\n",
            "          \"description\": \"Input image to be detected.\",\n",
            "          \"content\": {\n",
            "            \"content_properties_type\": \"ImageProperties\",\n",
            "            \"content_properties\": {\n",
            "              \"color_space\": \"RGB\"\n",
            "            }\n",
            "          },\n",
            "          \"process_units\": [\n",
            "            {\n",
            "              \"options_type\": \"NormalizationOptions\",\n",
            "              \"options\": {\n",
            "                \"mean\": [\n",
            "                  127.5\n",
            "                ],\n",
            "                \"std\": [\n",
            "                  127.5\n",
            "                ]\n",
            "              }\n",
            "            }\n",
            "          ],\n",
            "          \"stats\": {\n",
            "            \"max\": [\n",
            "              1.0\n",
            "            ],\n",
            "            \"min\": [\n",
            "              -1.0\n",
            "            ]\n",
            "          }\n",
            "        }\n",
            "      ],\n",
            "      \"output_tensor_metadata\": [\n",
            "        {\n",
            "          \"name\": \"score\",\n",
            "          \"description\": \"The scores of the detected boxes.\",\n",
            "          \"content\": {\n",
            "            \"content_properties_type\": \"FeatureProperties\",\n",
            "            \"content_properties\": {\n",
            "            },\n",
            "            \"range\": {\n",
            "              \"min\": 2,\n",
            "              \"max\": 2\n",
            "            }\n",
            "          },\n",
            "          \"stats\": {\n",
            "          }\n",
            "        },\n",
            "        {\n",
            "          \"name\": \"location\",\n",
            "          \"description\": \"The locations of the detected boxes.\",\n",
            "          \"content\": {\n",
            "            \"content_properties_type\": \"BoundingBoxProperties\",\n",
            "            \"content_properties\": {\n",
            "              \"index\": [\n",
            "                1,\n",
            "                0,\n",
            "                3,\n",
            "                2\n",
            "              ],\n",
            "              \"type\": \"BOUNDARIES\"\n",
            "            },\n",
            "            \"range\": {\n",
            "              \"min\": 2,\n",
            "              \"max\": 2\n",
            "            }\n",
            "          },\n",
            "          \"stats\": {\n",
            "          }\n",
            "        },\n",
            "        {\n",
            "          \"name\": \"number of detections\",\n",
            "          \"description\": \"The number of the detected boxes.\",\n",
            "          \"content\": {\n",
            "            \"content_properties_type\": \"FeatureProperties\",\n",
            "            \"content_properties\": {\n",
            "            }\n",
            "          },\n",
            "          \"stats\": {\n",
            "          }\n",
            "        },\n",
            "        {\n",
            "          \"name\": \"category\",\n",
            "          \"description\": \"The categories of the detected boxes.\",\n",
            "          \"content\": {\n",
            "            \"content_properties_type\": \"FeatureProperties\",\n",
            "            \"content_properties\": {\n",
            "            },\n",
            "            \"range\": {\n",
            "              \"min\": 2,\n",
            "              \"max\": 2\n",
            "            }\n",
            "          },\n",
            "          \"stats\": {\n",
            "          },\n",
            "          \"associated_files\": [\n",
            "            {\n",
            "              \"name\": \"label.txt\",\n",
            "              \"description\": \"Labels for categories that the model can recognize.\",\n",
            "              \"type\": \"TENSOR_VALUE_LABELS\"\n",
            "            }\n",
            "          ]\n",
            "        }\n",
            "      ],\n",
            "      \"output_tensor_groups\": [\n",
            "        {\n",
            "          \"name\": \"detection_result\",\n",
            "          \"tensor_names\": [\n",
            "            \"location\",\n",
            "            \"category\",\n",
            "            \"score\"\n",
            "          ]\n",
            "        }\n",
            "      ]\n",
            "    }\n",
            "  ],\n",
            "  \"min_parser_version\": \"1.2.0\"\n",
            "}\n",
            "\n",
            "Associated file(s) populated:\n",
            "['label.txt']\n"
          ]
        }
      ]
    }
  ]
}